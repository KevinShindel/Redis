{
 "cells": [
  {
   "cell_type": "code",
   "execution_count": null,
   "id": "573d4f77-c20a-4e47-a542-4d0a48add313",
   "metadata": {},
   "outputs": [],
   "source": [
    "import io\n",
    "import json\n",
    "import os\n",
    "\n",
    "import numpy as np\n",
    "import redis\n",
    "from redis.commands.search.field import TagField, NumericField, VectorField\n",
    "from redis.commands.search.indexDefinition import IndexDefinition, IndexType\n",
    "from redis.commands.search.query import Query\n",
    "from sentence_transformers import SentenceTransformer\n",
    "\n",
    "REDIS_URL=os.getenv('REDIS_URL', \"redis://localhost:6379\")"
   ]
  },
  {
   "cell_type": "code",
   "execution_count": null,
   "id": "e6cd3565-004a-4be0-af2d-57d2d1cc510a",
   "metadata": {},
   "outputs": [],
   "source": [
    "# Get a Redis connection\n",
    "r = redis.Redis.from_url(REDIS_URL, decode_responses=True)\n",
    "print(r.ping())\n",
    "\n",
    "# Define the model we want to use \n",
    "model = SentenceTransformer('sentence-transformers/all-MiniLM-L6-v2')"
   ]
  },
  {
   "cell_type": "code",
   "id": "a885f1ef-e68c-4517-8529-c747a6768696",
   "metadata": {
    "jupyter": {
     "is_executing": true
    }
   },
   "source": [
    "# Reading the books and storing as JSON documents together with the corresponding vector embedding\n",
    "# The embedding is calculated using the description.\n",
    "for filename in os.listdir(\"../../data/books/\"):\n",
    "    f = os.path.join(\"../../data/books/\", filename)\n",
    "\n",
    "    if os.path.isfile(f):\n",
    "        book_file = io.open(f, encoding=\"utf-8\")\n",
    "        book_json = json.load(book_file)\n",
    "        book_file.close()\n",
    "        print(f\"{book_json['title']} done\")\n",
    "        book_json['embedding'] = model.encode(book_json['description']).astype(np.float32).tolist()\n",
    "        r.json().set(f\"book:{book_json['id']}\", \"$\", book_json)\n",
    "        #r.json().set(f\"book:{book_json['id']}\", \"$.embedding\", model.encode(book_json['description']).astype(np.float32).tolist())"
   ],
   "outputs": [],
   "execution_count": null
  },
  {
   "cell_type": "code",
   "execution_count": null,
   "id": "a5b91d76-4a07-42b1-a26c-11fa61ee1568",
   "metadata": {},
   "outputs": [],
   "source": [
    "# Here we create an index if it does not exists\n",
    "indexes = r.execute_command(\"FT._LIST\")\n",
    "if \"books_idx\" not in indexes: #.encode(\"utf-8\")\n",
    "    index_def = IndexDefinition(prefix=[\"book:\"], index_type=IndexType.JSON)\n",
    "    schema = (TagField(\"$.title\", as_name=\"title\"),\n",
    "              TagField(\"$.status\", as_name=\"status\"),\n",
    "              TagField(\"$.author\", as_name=\"author\"),\n",
    "              NumericField(\"$.year_published\", as_name=\"year_published\"),\n",
    "              VectorField(\"$.embedding\", \"HNSW\", {\"TYPE\": \"FLOAT32\", \"DIM\": 384, \"DISTANCE_METRIC\": \"COSINE\", \"INITIAL_CAP\": 1500}, as_name=\"embedding\"))\n",
    "    r.ft('books_idx').create_index(schema, definition=index_def)"
   ]
  },
  {
   "cell_type": "code",
   "execution_count": null,
   "id": "094f8b6c-0d4f-4d27-80a2-8dc94171469c",
   "metadata": {},
   "outputs": [],
   "source": [
    "# Get the recommendation from a book \n",
    "def get_recommendation(key):\n",
    "    embedding = r.json().get(key)\n",
    "    embedding_as_blob = np.array(embedding['embedding'], dtype=np.float32).tobytes()\n",
    "    q = Query(\"*=>[KNN 5 @embedding $vec AS score]\").return_field(\"$.title\").sort_by(\"score\", asc=True).dialect(2).paging(1, 5)\n",
    "    res = r.ft(\"books_idx\").search(q, query_params={\"vec\": embedding_as_blob})\n",
    "    return res"
   ]
  },
  {
   "cell_type": "code",
   "execution_count": null,
   "id": "7035ad30-13ba-425e-8356-737ddd53ec5e",
   "metadata": {},
   "outputs": [],
   "source": [
    "print(get_recommendation('book:26415'))\n",
    "print(get_recommendation('book:9'))"
   ]
  },
  {
   "cell_type": "code",
   "execution_count": null,
   "id": "ba6bc38d-0cf9-4df1-ab9b-5008862ed412",
   "metadata": {},
   "outputs": [],
   "source": [
    "def get_recommendation_by_range(key):\n",
    "    embedding = r.json().get(key)\n",
    "    embedding_as_blob = np.array(embedding['embedding'], dtype=np.float32).tobytes()\n",
    "    q = Query(\"@embedding:[VECTOR_RANGE $radius $vec]=>{$YIELD_DISTANCE_AS: score}\") \\\n",
    "        .return_fields(\"title\") \\\n",
    "        .sort_by(\"score\", asc=True) \\\n",
    "        .paging(1, 5) \\\n",
    "        .dialect(2)\n",
    "\n",
    "    # Find all vectors within a radius from the query vector\n",
    "    query_params = {\n",
    "        \"radius\": 3,\n",
    "        \"vec\": embedding_as_blob\n",
    "    }\n",
    "\n",
    "    res = r.ft(\"books_idx\").search(q, query_params)\n",
    "    return res"
   ]
  },
  {
   "cell_type": "code",
   "execution_count": null,
   "id": "52afae0a-e4d2-4675-954e-0dba762127f4",
   "metadata": {},
   "outputs": [],
   "source": [
    "print(get_recommendation_by_range('book:26415'))\n",
    "print(get_recommendation_by_range('book:9'))"
   ]
  }
 ],
 "metadata": {
  "kernelspec": {
   "display_name": "Python 3 (ipykernel)",
   "language": "python",
   "name": "python3"
  },
  "language_info": {
   "codemirror_mode": {
    "name": "ipython",
    "version": 3
   },
   "file_extension": ".py",
   "mimetype": "text/x-python",
   "name": "python",
   "nbconvert_exporter": "python",
   "pygments_lexer": "ipython3",
   "version": "3.9.6"
  }
 },
 "nbformat": 4,
 "nbformat_minor": 5
}
