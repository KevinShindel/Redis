{
 "cells": [
  {
   "cell_type": "code",
   "execution_count": null,
   "id": "312aac1d-eb00-4c62-8a52-f559b796624a",
   "metadata": {},
   "outputs": [],
   "source": [
    "import redis\n",
    "import io\n",
    "import os\n",
    "import json\n",
    "from redis.commands.search.query import Query\n",
    "from redis.commands.search.indexDefinition import IndexDefinition, IndexType\n",
    "from redis.commands.search.field import TextField, TagField, NumericField, VectorField\n",
    "import numpy as np\n",
    "from numpy.linalg import norm\n",
    "from PIL import Image\n",
    "from deepface import DeepFace\n",
    "\n",
    "REDIS_URL=os.getenv('REDIS_URL', \"redis://localhost:6379\")\n",
    "models = [\"VGG-Face\", \"Facenet\", \"OpenFace\", \"DeepFace\", \"Dlib\", \"ArcFace\"]\n",
    "EMBEDDING_MODEL=models[0]"
   ]
  },
  {
   "cell_type": "code",
   "execution_count": null,
   "id": "ad89564f-51d4-4d92-9dac-97b3933b4053",
   "metadata": {},
   "outputs": [],
   "source": [
    "# Get a Redis connection\n",
    "r = redis.Redis.from_url(REDIS_URL, decode_responses=True)\n",
    "print(r.ping())"
   ]
  },
  {
   "cell_type": "code",
   "execution_count": null,
   "id": "413843cb-8b37-49b7-a7a9-188dbb3d7549",
   "metadata": {},
   "outputs": [],
   "source": [
    "def store_models():\n",
    "    for person in range(1, 41):\n",
    "        person = \"s\" + str(person)\n",
    "        for face in range(1, 6):\n",
    "            facepath = '../../data/orl/' + person + \"/\" + str(face) + '.bmp'\n",
    "            print (\"Training face: \" + facepath)\n",
    "            vec = DeepFace.represent(facepath, model_name=EMBEDDING_MODEL, enforce_detection=False)[0]['embedding']\n",
    "            embedding = np.array(vec, dtype=np.float32).astype(np.float32).tobytes()\n",
    "            face_data_values ={ 'person_id':person,\n",
    "                                'person_path':facepath,\n",
    "                                'embedding':embedding}\n",
    "            r.hset('face:'+person+':'+str(face),mapping=face_data_values)"
   ]
  },
  {
   "cell_type": "code",
   "execution_count": null,
   "id": "97dfc3cd-dc13-4d26-8bdd-7af02e261a2e",
   "metadata": {},
   "outputs": [],
   "source": [
    "def create_index():\n",
    "    indexes = r.execute_command(\"FT._LIST\")\n",
    "    if \"face_idx\" not in indexes:\n",
    "        index_def = IndexDefinition(prefix=[\"face:\"], index_type=IndexType.HASH)\n",
    "        schema = (VectorField(\"embedding\", \"HNSW\", {\"TYPE\": \"FLOAT32\", \"DIM\": 2622, \"DISTANCE_METRIC\": \"COSINE\"}, as_name=\"embedding\"))\n",
    "        r.ft('face_idx').create_index(schema, definition=index_def)\n",
    "        print(\"The index has been created\")\n",
    "    else:\n",
    "        print(\"The index exists\")"
   ]
  },
  {
   "cell_type": "code",
   "execution_count": null,
   "id": "f3a74f20-9f80-4f34-b80a-8e99de740f6d",
   "metadata": {},
   "outputs": [],
   "source": [
    "def find_face(facepath):\n",
    "    vec = DeepFace.represent(facepath, model_name=EMBEDDING_MODEL, enforce_detection=False)[0]['embedding']\n",
    "    embedding = np.array(vec, dtype=np.float32).astype(np.float32).tobytes()\n",
    "\n",
    "    q = Query(\"*=>[KNN 1 @embedding $vec AS score]\").return_field(\"score\").dialect(2)\n",
    "    res = r.ft(\"face_idx\").search(q, query_params={\"vec\": embedding})\n",
    "\n",
    "    for face in res.docs:\n",
    "        print(face.id.split(\":\")[1])\n",
    "        return face.id.split(\":\")[1]\n",
    "\n",
    "\n",
    "def test():\n",
    "    success = 0\n",
    "    for person in range(1, 41):\n",
    "        person = \"s\" + str(person)\n",
    "        for face in range(6, 11):\n",
    "            facepath = '../../data/orl/' + person + \"/\" + str(face) + '.bmp'\n",
    "            print (\"Testing face: \" + facepath)\n",
    "            found = find_face(facepath)\n",
    "            if (person == found):\n",
    "                success = success +1\n",
    "\n",
    "    print(success/200*100)"
   ]
  },
  {
   "cell_type": "code",
   "execution_count": null,
   "id": "60cba9b1-30ed-46d7-94b2-c8c55c023f15",
   "metadata": {},
   "outputs": [],
   "source": [
    "store_models()"
   ]
  },
  {
   "cell_type": "code",
   "execution_count": null,
   "id": "397baf50-d478-4986-8b97-92b7d29b8128",
   "metadata": {},
   "outputs": [],
   "source": [
    "create_index()"
   ]
  },
  {
   "cell_type": "code",
   "execution_count": null,
   "id": "22aec550-bcb5-4503-bd12-f2952389c55c",
   "metadata": {},
   "outputs": [],
   "source": [
    "test()"
   ]
  }
 ],
 "metadata": {
  "kernelspec": {
   "display_name": "Python 3 (ipykernel)",
   "language": "python",
   "name": "python3"
  },
  "language_info": {
   "codemirror_mode": {
    "name": "ipython",
    "version": 3
   },
   "file_extension": ".py",
   "mimetype": "text/x-python",
   "name": "python",
   "nbconvert_exporter": "python",
   "pygments_lexer": "ipython3",
   "version": "3.9.6"
  }
 },
 "nbformat": 4,
 "nbformat_minor": 5
}
